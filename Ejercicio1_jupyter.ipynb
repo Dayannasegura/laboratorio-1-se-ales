{
 "cells": [
  {
   "cell_type": "markdown",
   "id": "027f639d-829a-4e28-be06-2548257bc5a9",
   "metadata": {},
   "source": [
    "### EJERCICIO 1 PYTHON PRUEBA PROGRAMACION"
   ]
  },
  {
   "cell_type": "markdown",
   "id": "cdd5524c-9459-43f7-b594-086d56b693f6",
   "metadata": {},
   "source": [
    "#### Ejercicio hola mundo"
   ]
  },
  {
   "cell_type": "code",
   "execution_count": 2,
   "id": "903fd0be-2136-40ee-b093-8184054b5608",
   "metadata": {},
   "outputs": [
    {
     "name": "stdout",
     "output_type": "stream",
     "text": [
      "Hola mundo\n"
     ]
    }
   ],
   "source": [
    "print(\"Hola mundo\")"
   ]
  },
  {
   "cell_type": "markdown",
   "id": "1a9b431e-3798-48ba-bc7e-9b4cf2e6ee8f",
   "metadata": {},
   "source": [
    "#### Prueba if y else"
   ]
  },
  {
   "cell_type": "code",
   "execution_count": 9,
   "id": "a9033053-a0c4-4169-b2cb-37609f6c4e01",
   "metadata": {},
   "outputs": [
    {
     "name": "stdout",
     "output_type": "stream",
     "text": [
      "X es menor 4\n"
     ]
    }
   ],
   "source": [
    "x=-5\n",
    "\n",
    "if x>4:\n",
    "    print (\"X es mayor a 4\")\n",
    "elif x==4:\n",
    "    print(\"X es igual a 4\")\n",
    "else:\n",
    "    print(\"X es menor 4\")  "
   ]
  },
  {
   "cell_type": "markdown",
   "id": "9a5665f4-6d72-4054-876f-375ecea967aa",
   "metadata": {},
   "source": [
    "#### Prueba de for"
   ]
  },
  {
   "cell_type": "code",
   "execution_count": 12,
   "id": "c1678aac-586d-4856-ad3b-0422e8a07aef",
   "metadata": {},
   "outputs": [
    {
     "name": "stdout",
     "output_type": "stream",
     "text": [
      "0\n",
      "1\n",
      "2\n",
      "3\n",
      "4\n",
      "5\n",
      "6\n",
      "7\n",
      "8\n",
      "9\n",
      "10\n",
      "11\n",
      "12\n",
      "13\n",
      "14\n",
      "15\n",
      "16\n",
      "17\n",
      "18\n",
      "19\n",
      "20\n",
      "21\n",
      "22\n",
      "23\n",
      "24\n",
      "25\n",
      "26\n",
      "27\n",
      "28\n",
      "29\n",
      "30\n",
      "31\n",
      "32\n",
      "33\n",
      "34\n",
      "35\n",
      "36\n",
      "37\n",
      "38\n",
      "39\n",
      "David\n",
      "Dayanna\n",
      "Ana\n",
      "Jhonathan\n",
      "F\n",
      "r\n",
      "e\n",
      "s\n",
      "a\n"
     ]
    }
   ],
   "source": [
    "for i in range(40):\n",
    "    print(i)\n",
    "nombres = [\"David\", \"Dayanna\", \"Ana\", \"Jhonathan\"]\n",
    "\n",
    "for i in nombres:\n",
    "    print(i)\n",
    "\n",
    "for i in \"Fresa\":\n",
    "    print(i)"
   ]
  },
  {
   "cell_type": "code",
   "execution_count": null,
   "id": "39c42df3-8b01-4480-887d-cf0d8f7eb7ab",
   "metadata": {},
   "outputs": [],
   "source": []
  },
  {
   "cell_type": "code",
   "execution_count": null,
   "id": "82da5924-34ce-4ceb-9b5f-423895c20d89",
   "metadata": {},
   "outputs": [],
   "source": []
  }
 ],
 "metadata": {
  "kernelspec": {
   "display_name": "Python [conda env:base] *",
   "language": "python",
   "name": "conda-base-py"
  },
  "language_info": {
   "codemirror_mode": {
    "name": "ipython",
    "version": 3
   },
   "file_extension": ".py",
   "mimetype": "text/x-python",
   "name": "python",
   "nbconvert_exporter": "python",
   "pygments_lexer": "ipython3",
   "version": "3.11.7"
  }
 },
 "nbformat": 4,
 "nbformat_minor": 5
}
